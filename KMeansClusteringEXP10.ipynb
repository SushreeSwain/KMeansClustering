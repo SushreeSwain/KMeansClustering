{
 "cells": [
  {
   "cell_type": "code",
   "execution_count": 1,
   "metadata": {},
   "outputs": [],
   "source": [
    "import numpy as np\n",
    "from sklearn.datasets import make_blobs\n",
    "from sklearn.metrics import jaccard_score"
   ]
  },
  {
   "cell_type": "code",
   "execution_count": 2,
   "metadata": {},
   "outputs": [],
   "source": [
    "X, y_true = make_blobs(n_samples=300, centers=3, random_state=42, cluster_std=1.0)"
   ]
  },
  {
   "cell_type": "code",
   "execution_count": 3,
   "metadata": {},
   "outputs": [],
   "source": [
    "np.random.seed(42)\n",
    "cluster_centers = X[np.random.choice(X.shape[0], 3, replace=False)]  \n"
   ]
  },
  {
   "cell_type": "code",
   "execution_count": 4,
   "metadata": {},
   "outputs": [],
   "source": [
    "num_iterations = 10\n",
    "\n",
    "for iteration in range(num_iterations):\n",
    "    cluster_assignments = np.argmin(np.linalg.norm(X[:, np.newaxis] - cluster_centers, axis=2), axis=1)\n",
    "    \n",
    "    for i in range(3):\n",
    "        cluster_centers[i] = np.mean(X[cluster_assignments == i], axis=0)\n"
   ]
  },
  {
   "cell_type": "code",
   "execution_count": 5,
   "metadata": {},
   "outputs": [
    {
     "name": "stdout",
     "output_type": "stream",
     "text": [
      "Final Cluster Means:\n",
      "Cluster 1: [-2.63323268  9.04356978]\n",
      "Cluster 2: [-6.88387179 -6.98398415]\n",
      "Cluster 3: [4.74710337 2.01059427]\n"
     ]
    }
   ],
   "source": [
    "print(\"Final Cluster Means:\")\n",
    "for i, center in enumerate(cluster_centers):\n",
    "    print(f\"Cluster {i + 1}: {center}\")"
   ]
  },
  {
   "cell_type": "code",
   "execution_count": 7,
   "metadata": {},
   "outputs": [
    {
     "name": "stdout",
     "output_type": "stream",
     "text": [
      "Jaccard Distance (Cluster 1): 0.0000\n",
      "Jaccard Distance (Cluster 2): 1.0000\n",
      "Jaccard Distance (Cluster 3): 1.0000\n"
     ]
    }
   ],
   "source": [
    "jaccard_distances = []\n",
    "for i in range(3):\n",
    "    true_cluster_indices = np.where(y_true == i)[0]\n",
    "    predicted_cluster_indices = np.where(cluster_assignments == i)[0]\n",
    "    jaccard_distance = 1.0 - jaccard_score(true_cluster_indices, predicted_cluster_indices, average='weighted')\n",
    "    jaccard_distances.append(jaccard_distance)\n",
    "    print(f\"Jaccard Distance (Cluster {i + 1}): {jaccard_distance:.4f}\")"
   ]
  }
 ],
 "metadata": {
  "kernelspec": {
   "display_name": "Python 3",
   "language": "python",
   "name": "python3"
  },
  "language_info": {
   "codemirror_mode": {
    "name": "ipython",
    "version": 3
   },
   "file_extension": ".py",
   "mimetype": "text/x-python",
   "name": "python",
   "nbconvert_exporter": "python",
   "pygments_lexer": "ipython3",
   "version": "3.10.4"
  },
  "orig_nbformat": 4
 },
 "nbformat": 4,
 "nbformat_minor": 2
}
